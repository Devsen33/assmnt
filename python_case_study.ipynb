{
  "nbformat": 4,
  "nbformat_minor": 0,
  "metadata": {
    "colab": {
      "provenance": []
    },
    "kernelspec": {
      "name": "python3",
      "display_name": "Python 3"
    },
    "language_info": {
      "name": "python"
    }
  },
  "cells": [
    {
      "cell_type": "markdown",
      "source": [
        "1"
      ],
      "metadata": {
        "id": "VQI3pgGR-87G"
      }
    },
    {
      "cell_type": "code",
      "execution_count": null,
      "metadata": {
        "colab": {
          "base_uri": "https://localhost:8080/"
        },
        "id": "JuDxeaKC-Gcq",
        "outputId": "4d471ac3-ccf2-4c63-f308-2dec7ab64819"
      },
      "outputs": [
        {
          "output_type": "stream",
          "name": "stdout",
          "text": [
            "Range =  13 2\n"
          ]
        }
      ],
      "source": [
        "def range(a):\n",
        "  maximum=max(a)\n",
        "  minimum=min(a)\n",
        "  return maximum,minimum\n",
        "\n",
        "a=[2,4,5,13,4,9]\n",
        "maximum,minimum = range(a)\n",
        "print(\"Range = \",maximum,minimum)"
      ]
    },
    {
      "cell_type": "markdown",
      "source": [
        "2"
      ],
      "metadata": {
        "id": "qbqCiM8C_AzZ"
      }
    },
    {
      "cell_type": "code",
      "source": [
        "def mean_value(numbers):\n",
        "  if not numbers:\n",
        "    return None\n",
        "  total = sum(numbers)\n",
        "  mean = total / len(numbers)\n",
        "  return mean\n",
        "numbers=[2,43,67,8]\n",
        "mean = mean_value(numbers)\n",
        "print(\"Mean value = \",mean)"
      ],
      "metadata": {
        "colab": {
          "base_uri": "https://localhost:8080/"
        },
        "id": "KE5nI-8J-v8T",
        "outputId": "0a056e96-0fa5-472a-849d-a6c2158c5823"
      },
      "execution_count": null,
      "outputs": [
        {
          "output_type": "stream",
          "name": "stdout",
          "text": [
            "Mean value =  30.0\n"
          ]
        }
      ]
    },
    {
      "cell_type": "markdown",
      "source": [
        "3"
      ],
      "metadata": {
        "id": "SVgpo_FL_LaK"
      }
    },
    {
      "cell_type": "code",
      "source": [
        "def median_value(num):\n",
        "  if not numbers:\n",
        "    return None\n",
        "  x = sorted(num)\n",
        "  l = len(num)\n",
        "  if l%2==0:\n",
        "   median=(num[l//2]+num[l//2])/2\n",
        "  else:\n",
        "   median=num[l//2]\n",
        "  return median\n",
        "num=[2,3,5,6,7,9]\n",
        "median=median_value(num)\n",
        "print(\"Median:\",median)"
      ],
      "metadata": {
        "colab": {
          "base_uri": "https://localhost:8080/"
        },
        "id": "MR549kLV_FFN",
        "outputId": "10cec8b2-feff-4f9f-8694-89ab50d3048e"
      },
      "execution_count": null,
      "outputs": [
        {
          "output_type": "stream",
          "name": "stdout",
          "text": [
            "Median: 6.0\n"
          ]
        }
      ]
    },
    {
      "cell_type": "markdown",
      "source": [
        "4"
      ],
      "metadata": {
        "id": "pQMFZSLJ_cBu"
      }
    },
    {
      "cell_type": "code",
      "source": [],
      "metadata": {
        "id": "d4LlJJCK_eQc"
      },
      "execution_count": null,
      "outputs": []
    },
    {
      "cell_type": "markdown",
      "source": [
        "5"
      ],
      "metadata": {
        "id": "j0j7kDH3_e4e"
      }
    },
    {
      "cell_type": "code",
      "source": [
        "def percentile_value(p):\n",
        "    x = sorted(p)\n",
        "    n = len(x)\n",
        "    perc = 90 / 100 * (n - 1)\n",
        "    y = int(perc)\n",
        "    fraction = perc - y\n",
        "\n",
        "    if y + 1 < n:\n",
        "        m = x[y] + fraction * (x[y + 1] - x[y])\n",
        "\n",
        "\n",
        "    return perc, y, m\n",
        "\n",
        "x = [10, 20, 30, 40, 50]\n",
        "perc, y, m = percentile_value(x)\n",
        "print(\"Percentile position (float):\", perc)\n",
        "print(\"Lower index used:\", y)\n",
        "print(\"Interpolated 90th Percentile value:\", m)"
      ],
      "metadata": {
        "colab": {
          "base_uri": "https://localhost:8080/"
        },
        "id": "tvSbl4Eu_fz-",
        "outputId": "f6581391-48da-44ae-dbea-2254ec093d5a"
      },
      "execution_count": null,
      "outputs": [
        {
          "output_type": "stream",
          "name": "stdout",
          "text": [
            "Percentile position (float): 3.6\n",
            "Lower index used: 3\n",
            "Interpolated 90th Percentile value: 46.0\n"
          ]
        }
      ]
    },
    {
      "cell_type": "markdown",
      "source": [
        "6"
      ],
      "metadata": {
        "id": "nP0Rka7X_sdi"
      }
    },
    {
      "cell_type": "code",
      "source": [
        "def lower_bound(a):\n",
        "  a.sort()\n",
        "  n=len(a)\n",
        "  Q1 =int (25/100)*(n-1)\n",
        "  Q3 = int (75/100)*(n-1)\n",
        "  IQR = a[Q3]-a[Q1]\n",
        "  LB = a[Q1]-1.5*IQR\n",
        "  return LB\n",
        "a=[10,20,30,40,50]\n",
        "LB = lower_bound(a)\n",
        "print(\"LB:\",LB)"
      ],
      "metadata": {
        "colab": {
          "base_uri": "https://localhost:8080/"
        },
        "id": "2hb3U6sn_-Js",
        "outputId": "5a7737e2-07bd-4441-cda8-70e315a55ade"
      },
      "execution_count": null,
      "outputs": [
        {
          "output_type": "stream",
          "name": "stdout",
          "text": [
            "LB: 10.0\n"
          ]
        }
      ]
    },
    {
      "cell_type": "markdown",
      "source": [
        "7"
      ],
      "metadata": {
        "id": "ZRjPFodXAZDB"
      }
    },
    {
      "cell_type": "code",
      "source": [
        "def outliers(a):\n",
        "    a = sorted(a)\n",
        "    n = len(a)\n",
        "\n",
        "    Q1_index = int(0.25 * (n - 1))\n",
        "    Q3_index = int(0.75 * (n - 1))\n",
        "\n",
        "    Q1 = a[Q1_index]\n",
        "    Q3 = a[Q3_index]\n",
        "    IQR = Q3 - Q1\n",
        "    LB = Q1 - 1.5 * IQR\n",
        "    UB = Q3 + 1.5 * IQR\n",
        "    return [x for x in a if x < LB or x > UB]\n",
        "a = [10, 20, 30, 40, 50, 100]\n",
        "print(\"Outliers:\", outliers(a))"
      ],
      "metadata": {
        "colab": {
          "base_uri": "https://localhost:8080/"
        },
        "id": "NbIJI0MqAaQZ",
        "outputId": "853dac0e-c9df-41bc-c970-f9bb1ca37cd6"
      },
      "execution_count": null,
      "outputs": [
        {
          "output_type": "stream",
          "name": "stdout",
          "text": [
            "Outliers: [100]\n"
          ]
        }
      ]
    },
    {
      "cell_type": "markdown",
      "source": [
        "8"
      ],
      "metadata": {
        "id": "mlyHD12yAk5-"
      }
    },
    {
      "cell_type": "code",
      "source": [
        "def standard_deviation(a):\n",
        "  a.sort\n",
        "  b=len(a)\n",
        "  mean=(sum(a)/b)\n",
        "  c=sum((x-mean)**2 for x in a)/(b-1)\n",
        "# d=c/z-1\n",
        "# print(\"Variance:\",c)\n",
        "  sd = c**0.5\n",
        "  return sd\n",
        "a=[10,20,30,40,50]\n",
        "sd=standard_deviation(a)\n",
        "print(\"Standard Deviation:\",sd)\n"
      ],
      "metadata": {
        "colab": {
          "base_uri": "https://localhost:8080/"
        },
        "id": "b25V1CtWAlVU",
        "outputId": "087161fa-3887-4c6b-c2ab-3bfafa52af99"
      },
      "execution_count": null,
      "outputs": [
        {
          "output_type": "stream",
          "name": "stdout",
          "text": [
            "Standard Deviation: 15.811388300841896\n"
          ]
        }
      ]
    },
    {
      "cell_type": "markdown",
      "source": [
        "9"
      ],
      "metadata": {
        "id": "uORpPHqUAuQE"
      }
    },
    {
      "cell_type": "code",
      "source": [
        "def z_score(a):\n",
        "  mean=sum(a)/len(a)\n",
        "  sd=standard_deviation(a)\n",
        "  z=[(x-mean)/sd for x in a]\n",
        "  return z\n",
        "a=[10,20,30,40,50]\n",
        "z=z_score(a)\n",
        "print(\"Z-score:\",z)\n"
      ],
      "metadata": {
        "colab": {
          "base_uri": "https://localhost:8080/"
        },
        "id": "4BBjaPSeAuoX",
        "outputId": "a0296907-8f73-4e4a-8bd3-fe42a823ddc8"
      },
      "execution_count": null,
      "outputs": [
        {
          "output_type": "stream",
          "name": "stdout",
          "text": [
            "Z-score: [-1.2649110640673518, -0.6324555320336759, 0.0, 0.6324555320336759, 1.2649110640673518]\n"
          ]
        }
      ]
    }
  ]
}